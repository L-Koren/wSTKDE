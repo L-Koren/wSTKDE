{
 "cells": [
  {
   "cell_type": "markdown",
   "metadata": {},
   "source": [
    "# New York City traffic accidents example "
   ]
  },
  {
   "cell_type": "code",
   "execution_count": 0,
   "metadata": {},
   "outputs": [],
   "source": [
    "import sys\n",
    "from pathlib import Path\n",
    "\n",
    "# Add 'src' directory to the Python path\n",
    "sys.path.append(str(Path().resolve().parent / 'src'))\n",
    "\n",
    "# Import necessary modules\n",
    "from stkde import stkde\n",
    "import geopandas as gpd\n",
    "\n",
    "# Check if optional dependencies are installed\n",
    "try:\n",
    "    import matplotlib.pyplot as plt\n",
    "    import pyarrow.parquet as pq\n",
    "except ImportError:\n",
    "    print('Optional dependencies are not installed. Please install them to run this example.')"
   ]
  },
  {
   "cell_type": "code",
   "execution_count": 0,
   "metadata": {},
   "outputs": [
    {
     "name": "stdout",
     "output_type": "stream",
     "text": [
      "Number of accidents in NYC traffic dataset: 1783094\n"
     ]
    }
   ],
   "source": [
    "# Read dataset\n",
    "nyc_traffic_gdf = gpd.read_parquet('../data/nyc_traffic.parquet')\n",
    "print(f\"Number of accidents in NYC traffic dataset: {len(nyc_traffic_gdf)}\")"
   ]
  },
  {
   "cell_type": "markdown",
   "metadata": {},
   "source": [
    "Full STKDE run on NYC traffic dataset:"
   ]
  },
  {
   "cell_type": "code",
   "execution_count": 0,
   "metadata": {},
   "outputs": [
    {
     "name": "stdout",
     "output_type": "stream",
     "text": [
      "(1/5) Completed preprocessing in 0.71 seconds.\n",
      "(2/5) Completed computing bandwidths in 0.02 seconds. Attempted no bandwidth combinations\n",
      "(3/5) Completed grid computation in 0.00 seconds.\n",
      "(4/5) Completed STKDE calculations in 0.34 seconds.\n",
      "(5/5) STKDE result has been saved to c:\\wSTKDE\\notebooks\\output\\nyc_traffic_accidents.vti\n",
      "Total compute time: 1.27 seconds.\n",
      "Total number of voxels calculated: 1000000.\n",
      "Voxel size (x:1317.55, y:1179.59, t:45.66), using bandwidths: x=3280.0, y=3280.0, t=30.0.\n"
     ]
    }
   ],
   "source": [
    "# Calculate Spatio-Temporal KDE for NYC traffic accidents. For 100^3 voxels and bandwidths of 3280 U.S. survey feet (approx. 1 km) and 30 days.\n",
    "nyc_stkde = stkde(gdf=nyc_traffic_gdf, time_col='days_after_epoch', crs='EPSG:2263', number_of_voxels=(100,100,100), bandwidths=(3280, 3280, 30),\n",
    "      output_file='./output/nyc_traffic_accidents')"
   ]
  },
  {
   "cell_type": "markdown",
   "metadata": {},
   "source": [
    "Weighted STKDE run on NYC traffic dataset. Points with no persons injured excluded."
   ]
  },
  {
   "cell_type": "code",
   "execution_count": 0,
   "metadata": {},
   "outputs": [
    {
     "name": "stdout",
     "output_type": "stream",
     "text": [
      "Removed 1365356/1783094 rows with zero injuries. Leaving: 417738 points.\n",
      "(1/5) Completed preprocessing in 0.29 seconds.\n",
      "(2/5) Completed computing bandwidths in 0.00 seconds. Attempted no bandwidth combinations\n",
      "(3/5) Completed grid computation in 0.00 seconds.\n",
      "(4/5) Completed STKDE calculations in 0.08 seconds.\n",
      "(5/5) STKDE result has been saved to c:\\wSTKDE\\notebooks\\output\\nyc_traffic_accidents_weighted.vti\n",
      "Total compute time: 0.57 seconds.\n",
      "Total number of voxels calculated: 1000000.\n",
      "Voxel size (x:1304.76, y:1178.97, t:45.66), using bandwidths: x=3280.0, y=3280.0, t=30.0.\n"
     ]
    }
   ],
   "source": [
    "# Create a new GeoDataFrame dropping rows where number of persons injured is zero.\n",
    "nyc_traffic_gdf_without_zero: gpd.GeoDataFrame = nyc_traffic_gdf[nyc_traffic_gdf['NUMBER OF PERSONS INJURED'] > 0] # type: ignore\n",
    "print(f\"Removed {len(nyc_traffic_gdf) - len(nyc_traffic_gdf_without_zero)}/{len(nyc_traffic_gdf)} rows with zero injuries. Leaving: {len(nyc_traffic_gdf_without_zero)} points.\")\n",
    "\n",
    "# Calculate the same as before, but using number of injuries as weights\n",
    "weighted_nyc_stkde = stkde(gdf=nyc_traffic_gdf_without_zero, time_col='days_after_epoch', crs='EPSG:2263', number_of_voxels=(100,100,100), bandwidths=(3280, 3280, 30),\n",
    "      weight_col='NUMBER OF PERSONS INJURED', output_file='./output/nyc_traffic_accidents_weighted')"
   ]
  },
  {
   "cell_type": "markdown",
   "metadata": {},
   "source": [
    "## Code used to preprocess the raw file\n",
    "Below is the code used to preprocess the raw data from the NYC open data portal. Data retrieved from here [link](https://data.cityofnewyork.us/Public-Safety/Motor-Vehicle-Collisions-Crashes/h9gi-nx95/about_data). Due to the large size of the raw dataset, it is not included with the code. Instead, only the compressed and quicker-to-read parquet format is provided. Code below is shown for full reproducibility."
   ]
  },
  {
   "cell_type": "code",
   "execution_count": 0,
   "metadata": {},
   "outputs": [],
   "source": [
    "import pandas as pd\n",
    "import geopandas as gpd"
   ]
  },
  {
   "cell_type": "code",
   "execution_count": 0,
   "metadata": {},
   "outputs": [
    {
     "name": "stdout",
     "output_type": "stream",
     "text": [
      "Dropped 251097/2124088 rows with missing values\n",
      "Final date in dataset: 2024-10-01 00:00:00\n"
     ]
    }
   ],
   "source": [
    "# Read data in\n",
    "nyc_traffic = pd.read_csv(\n",
    "    '../data/Motor_Vehicle_Collisions_-_Crashes_20241006.csv', # Change to different path or file name if newer data is available.\n",
    "    parse_dates=['CRASH DATE'],\n",
    "    usecols=['CRASH DATE', 'LATITUDE', 'LONGITUDE', 'NUMBER OF PERSONS INJURED']\n",
    ")\n",
    "\n",
    "# Drop rows where latitude or longitude are missing\n",
    "len_total = len(nyc_traffic)\n",
    "nyc_traffic = nyc_traffic.dropna(subset=['LATITUDE', 'LONGITUDE'])\n",
    "len_no_na = len(nyc_traffic)\n",
    "print(f\"Dropped {len_total - len_no_na}/{len_total} rows with missing values\")\n",
    "\n",
    "# Transform CRASH DATE, to new column days_after_epoch, where epoch is 01/01/2012\n",
    "nyc_traffic['days_after_epoch'] = (nyc_traffic['CRASH DATE'] - pd.Timestamp('2012-01-01')).dt.days\n",
    "print(f\"Final date in dataset: {nyc_traffic['CRASH DATE'].max()}\")\n",
    "# Convert to GeoDataFrame\n",
    "nyc_traffic_gdf = gpd.GeoDataFrame(\n",
    "    nyc_traffic,\n",
    "    geometry=gpd.points_from_xy(nyc_traffic.LONGITUDE, nyc_traffic.LATITUDE),\n",
    "    crs='EPSG:4326'\n",
    ")\n",
    "# Convert to EPSG:2263\n",
    "nyc_traffic_gdf = nyc_traffic_gdf.to_crs('EPSG:2263')\n",
    "\n",
    "# Remove all points outside of NYC bounds (roughly)\n",
    "len_before_clip = len(nyc_traffic_gdf)\n",
    "nyc_traffic_gdf = nyc_traffic_gdf.cx[903691.238365:1057957.154554, 152625.209653:268237.237965]\n",
    "len_after_clip = len(nyc_traffic_gdf)\n",
    "print(f\"Clipped {len_before_clip - len_after_clip}/{len_before_clip} points outside of NYC bounds\")\n",
    "\n",
    "# Output to file\n",
    "nyc_traffic_gdf.to_parquet('../data/nyc_traffic.parquet')"
   ]
  }
 ],
 "metadata": {
  "kernelspec": {
   "display_name": "Python 3",
   "language": "python",
   "name": "python3"
  },
  "language_info": {
   "codemirror_mode": {
    "name": "ipython",
    "version": 3
   },
   "file_extension": ".py",
   "mimetype": "text/x-python",
   "name": "python",
   "nbconvert_exporter": "python",
   "pygments_lexer": "ipython3",
   "version": "3.12.7"
  }
 },
 "nbformat": 4,
 "nbformat_minor": 2
}
