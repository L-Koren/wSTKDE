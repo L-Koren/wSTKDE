{
 "cells": [
  {
   "cell_type": "markdown",
   "metadata": {},
   "source": [
    "Code used to generate gif from paraview .png output"
   ]
  },
  {
   "cell_type": "code",
   "execution_count": 0,
   "metadata": {},
   "outputs": [],
   "source": [
    "import imageio.v2 as io\n",
    "import os"
   ]
  },
  {
   "cell_type": "code",
   "execution_count": 0,
   "metadata": {},
   "outputs": [],
   "source": [
    "# Create list of files ending in .png\n",
    "files = [f for f in os.listdir('.') if f.endswith('.png')]\n",
    "# Create a GIF using ffmpeg as the backend\n",
    "with io.get_writer('nyc_anim.gif', fps=30, loop=0, palettesize=256, plugin='ffmpeg') as writer:\n",
    "    for file in files:\n",
    "        image = io.imread(file)\n",
    "        writer.append_data(image)\n",
    "        \n",
    "    # Add the last frame multiple times to create a 1-second pause\n",
    "    last_frame = io.imread(files[-1])\n",
    "    pause_duration = 1  # seconds\n",
    "    pause_frames = int(pause_duration * 30)  # 30 fps\n",
    "    for _ in range(pause_frames):\n",
    "        writer.append_data(last_frame)"
   ]
  }
 ],
 "metadata": {
  "kernelspec": {
   "display_name": "Python 3",
   "language": "python",
   "name": "python3"
  },
  "language_info": {
   "codemirror_mode": {
    "name": "ipython",
    "version": 3
   },
   "file_extension": ".py",
   "mimetype": "text/x-python",
   "name": "python",
   "nbconvert_exporter": "python",
   "pygments_lexer": "ipython3",
   "version": "3.12.2"
  }
 },
 "nbformat": 4,
 "nbformat_minor": 2
}
